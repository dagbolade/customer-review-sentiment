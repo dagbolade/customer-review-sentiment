{
 "cells": [
  {
   "cell_type": "code",
   "execution_count": 4,
   "id": "d05e2ab0",
   "metadata": {},
   "outputs": [
    {
     "name": "stdout",
     "output_type": "stream",
     "text": [
      " 'cleaned_reviews.xlsx' updated — added SENTIMENT and removed DATE & NAME.\n"
     ]
    }
   ],
   "source": [
    "import pandas as pd\n",
    "\n",
    "# Load the processed file (you just uploaded)\n",
    "df = pd.read_excel(\"cleaned_reviews.xlsx\")\n",
    "\n",
    "# Define function to assign sentiment based on overall rating\n",
    "def assign_sentiment(rating):\n",
    "    if rating >= 4:\n",
    "        return 'Positive'\n",
    "    elif rating == 3:\n",
    "        return 'Neutral'\n",
    "    else:\n",
    "        return 'Negative'\n",
    "\n",
    "# Apply the function to create the sentiment column\n",
    "df['Sentiment'] = df['Ratings'].apply(assign_sentiment)\n",
    "\n",
    "\n",
    "# Overwrite the original file\n",
    "df.to_excel(\"cleaned_reviews.xlsx\", index=False)\n",
    "\n",
    "print(\" 'cleaned_reviews.xlsx' updated — added SENTIMENT and removed DATE & NAME.\")\n"
   ]
  },
  {
   "cell_type": "code",
   "execution_count": null,
   "id": "09849b77",
   "metadata": {},
   "outputs": [],
   "source": []
  }
 ],
 "metadata": {
  "kernelspec": {
   "display_name": "Python 3 (ipykernel)",
   "language": "python",
   "name": "python3"
  },
  "language_info": {
   "codemirror_mode": {
    "name": "ipython",
    "version": 3
   },
   "file_extension": ".py",
   "mimetype": "text/x-python",
   "name": "python",
   "nbconvert_exporter": "python",
   "pygments_lexer": "ipython3",
   "version": "3.11.4"
  }
 },
 "nbformat": 4,
 "nbformat_minor": 5
}
